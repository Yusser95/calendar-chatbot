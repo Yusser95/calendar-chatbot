{
 "cells": [
  {
   "cell_type": "code",
   "execution_count": 1,
   "metadata": {},
   "outputs": [
    {
     "name": "stdout",
     "output_type": "stream",
     "text": [
      "{'chunks': [good Cafe, Home San Francisco],\n",
      " 'ner': [{'label': 'FAC', 'text': 'Cafe'},\n",
      "         {'label': 'GPE', 'text': 'Home San Francisco'}],\n",
      " 'relations': [('find', 'ROOT', 'find'),\n",
      "               ('good', 'amod', 'Cafe'),\n",
      "               ('Cafe', 'dobj', 'find'),\n",
      "               ('near', 'prep', 'Cafe'),\n",
      "               ('Home', 'compound', 'Francisco'),\n",
      "               ('San', 'compound', 'Francisco'),\n",
      "               ('Francisco', 'pobj', 'near')],\n",
      " 'tags': [('find', 'VB'),\n",
      "          ('good', 'JJ'),\n",
      "          ('Cafe', 'NNP'),\n",
      "          ('near', 'IN'),\n",
      "          ('Home', 'NNP'),\n",
      "          ('San', 'NNP'),\n",
      "          ('Francisco', 'NNP')]}\n"
     ]
    }
   ],
   "source": [
    "from nlp_core import NLPClass\n",
    "from pprint import pprint\n",
    "\n",
    "text = 'find good Cafe near Home San Francisco'\n",
    "nlp = NLPClass()\n",
    "tmp = nlp.parse(text)\n",
    "pprint(tmp)"
   ]
  },
  {
   "cell_type": "code",
   "execution_count": null,
   "metadata": {},
   "outputs": [],
   "source": []
  }
 ],
 "metadata": {
  "kernelspec": {
   "display_name": "Python 3",
   "language": "python",
   "name": "python3"
  },
  "language_info": {
   "codemirror_mode": {
    "name": "ipython",
    "version": 3
   },
   "file_extension": ".py",
   "mimetype": "text/x-python",
   "name": "python",
   "nbconvert_exporter": "python",
   "pygments_lexer": "ipython3",
   "version": "3.6.5"
  }
 },
 "nbformat": 4,
 "nbformat_minor": 2
}
